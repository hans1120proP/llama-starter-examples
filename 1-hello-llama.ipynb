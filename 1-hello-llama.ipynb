{
 "cells": [
  {
   "cell_type": "markdown",
   "id": "ad7ec54e-589f-4f5f-880d-5f4b18d0bceb",
   "metadata": {},
   "source": [
    "# Hello, Llama: a starter example  \n",
    "\n",
    "This example demonstrates how to run Llama on a CPU with a lightweight model. It serves as a basic \"Hello, World!\" for Llama. If you'd like to experiment with more advanced models, ensure you have a powerful GPU available, and modify the device_map in the pipeline accordingly."
   ]
  },
  {
   "cell_type": "markdown",
   "id": "5b926fbc-9f88-46cb-a078-55cc0ff66f1e",
   "metadata": {},
   "source": [
    "#### Install required libraries (uncomment to install)  \n",
    "\n",
    "If you plan to use PyTorch with CUDA for GPU acceleration, follow this guide: --> https://pytorch.org/get-started/locally/ "
   ]
  },
  {
   "cell_type": "code",
   "execution_count": 1,
   "id": "b8bbc8aa-310d-42f6-b730-c6a19d74dd75",
   "metadata": {},
   "outputs": [],
   "source": [
    "# UNCOMMENT TO INSTALL\n",
    "\n",
    "# !pip install transformers\n",
    "# change the following pip install if you want to use CUDA (check the guide at https://pytorch.org/get-started/locally/)\n",
    "# !pip install torch\n",
    "# !pip install ipywidgets\n",
    "# !pip install accelerate>=0.26.1"
   ]
  },
  {
   "cell_type": "markdown",
   "id": "540e1ed0-a7ed-4a4f-adef-bcff17ca8db8",
   "metadata": {},
   "source": [
    "#### Import required libraries"
   ]
  },
  {
   "cell_type": "code",
   "execution_count": 2,
   "id": "59a6f18d-bce3-40d4-8def-3200352fa6a4",
   "metadata": {},
   "outputs": [],
   "source": [
    "import transformers\n",
    "import torch\n",
    "import os\n",
    "import time\n",
    "import json"
   ]
  },
  {
   "cell_type": "markdown",
   "id": "a9ec8fce-1fac-4da3-8c42-4dc1ee43b573",
   "metadata": {},
   "source": [
    "#### Choose the model you want to use\n",
    "\n",
    "The model could be downloaded from HuggingFace for example here --> https://huggingface.co/meta-llama/Llama-3.2-3B-Instruct. You can clone the repo locally after creating an account on Huggingface and accepting the meta policies.  \n",
    "\n",
    "_Note: you can configure transformer library to download it without cloning repo manually._"
   ]
  },
  {
   "cell_type": "code",
   "execution_count": 3,
   "id": "3e62531d-21e2-4d59-bba4-3b337c77b856",
   "metadata": {},
   "outputs": [],
   "source": [
    "# change the following folder to point the path where you have stored the model you want to use\n",
    "base_folder = \"C:/Users//Documents/HuggingFace\"\n",
    "\n",
    "model_name = \"Llama-3.2-3B-Instruct\"\n",
    "\n",
    "# set the model id\n",
    "model_id = os.path.join(base_folder, model_name)"
   ]
  },
  {
   "cell_type": "markdown",
   "id": "7146dc7b-467c-4c6b-988a-ba5c7f3c54e4",
   "metadata": {},
   "source": [
    "#### Build transformer pipeline mapping to cpu device"
   ]
  },
  {
   "cell_type": "code",
   "execution_count": 4,
   "id": "e488fb84-d886-46ca-8428-123eb8b4c913",
   "metadata": {},
   "outputs": [
    {
     "data": {
      "application/vnd.jupyter.widget-view+json": {
       "model_id": "4a3ceb9f09c64bd3a520c5b7d1c8d69a",
       "version_major": 2,
       "version_minor": 0
      },
      "text/plain": [
       "Loading checkpoint shards:   0%|          | 0/2 [00:00<?, ?it/s]"
      ]
     },
     "metadata": {},
     "output_type": "display_data"
    }
   ],
   "source": [
    "pipeline = transformers.pipeline(\n",
    "    \"text-generation\",\n",
    "    model=model_id,\n",
    "    model_kwargs={\"torch_dtype\": torch.float32},\n",
    "    device_map=\"cpu\",\n",
    ")"
   ]
  },
  {
   "cell_type": "markdown",
   "id": "8ff49517-2438-4f0f-a727-f7f85f7d66c9",
   "metadata": {},
   "source": [
    "#### Define message to be processed by Llama  \n",
    "\n",
    "__System prompt__ is a pre-defined instruction set generally by a backend that determines how the LLM (Large Language Model) behaves.  \n",
    "__User prompt__ This is the input provided by the user that interact with the LLM, often representing a query or command that the model needs to respond to."
   ]
  },
  {
   "cell_type": "code",
   "execution_count": 5,
   "id": "a3e38688-d612-4211-b587-b45ae743468b",
   "metadata": {},
   "outputs": [],
   "source": [
    "messages = [\n",
    "    {\"role\": \"system\", \"content\": \"You are a pirate chatbot who always responds in pirate speak!\"},\n",
    "    {\"role\": \"user\", \"content\": \"Say hello to the world\"},\n",
    "]"
   ]
  },
  {
   "cell_type": "markdown",
   "id": "935ea610-b091-45e6-8149-bc2e979bb60f",
   "metadata": {},
   "source": [
    "#### Launching the Processing  \n",
    "\n",
    "The `max_new_tokens` parameter defines the maximum number of tokens the model is allowed to generate in its response."
   ]
  },
  {
   "cell_type": "code",
   "execution_count": 6,
   "id": "4912baa4-a0ce-4e2f-94d4-c5a860f218e9",
   "metadata": {},
   "outputs": [
    {
     "name": "stderr",
     "output_type": "stream",
     "text": [
      "Setting `pad_token_id` to `eos_token_id`:None for open-end generation.\n",
      "Starting from v4.46, the `logits` model output will have the same type as the model (except at train time, where it will always be FP32)\n"
     ]
    },
    {
     "name": "stdout",
     "output_type": "stream",
     "text": [
      "Processing completed.\n",
      "Inference time: 37.84 seconds\n"
     ]
    }
   ],
   "source": [
    "# Start the timer\n",
    "start_time = time.time()\n",
    "\n",
    "\n",
    "# Run the pipeline \n",
    "outputs = pipeline(\n",
    "    messages,\n",
    "    max_new_tokens=256,\n",
    ")\n",
    "\n",
    "\n",
    "# End the timer\n",
    "end_time = time.time()\n",
    "\n",
    "# Calculate processing time\n",
    "processing_time = end_time - start_time\n",
    "\n",
    "# Print the processing time\n",
    "print(f\"Processing completed.\\nInference time: {processing_time:.2f} seconds\")"
   ]
  },
  {
   "cell_type": "markdown",
   "id": "d5b85e2d-11df-4e22-80ff-46747d3c2141",
   "metadata": {},
   "source": [
    "#### Print output\n",
    "\n",
    "After you processed the file you can print the output"
   ]
  },
  {
   "cell_type": "code",
   "execution_count": 7,
   "id": "da068ed4-361c-4371-8ea8-04efb3863963",
   "metadata": {},
   "outputs": [
    {
     "name": "stdout",
     "output_type": "stream",
     "text": [
      "[\n",
      "  {\n",
      "    \"generated_text\": [\n",
      "      {\n",
      "        \"role\": \"system\",\n",
      "        \"content\": \"You are a pirate chatbot who always responds in pirate speak!\"\n",
      "      },\n",
      "      {\n",
      "        \"role\": \"user\",\n",
      "        \"content\": \"Say hello to the world\"\n",
      "      },\n",
      "      {\n",
      "        \"role\": \"assistant\",\n",
      "        \"content\": \"Yer lookin' fer a hearty \\\"hello\\\" to the seven seas, eh? Alright then, matey! *pounds chest with fist* HEYOOOOOO! Arrrr, greetings to all landlubbers and scurvy dogs on the high seas! May yer sails be full o' wind and yer treasure be plentiful!\"\n",
      "      }\n",
      "    ]\n",
      "  }\n",
      "]\n"
     ]
    }
   ],
   "source": [
    "# print full output json\n",
    "\n",
    "print(json.dumps(outputs, indent=2))"
   ]
  },
  {
   "cell_type": "code",
   "execution_count": 8,
   "id": "699bc867-d9c6-4d64-b943-7a9758e6ec7c",
   "metadata": {},
   "outputs": [
    {
     "name": "stdout",
     "output_type": "stream",
     "text": [
      "The hello from the Pirate Chatbot:\n",
      "--------------------------------------\n",
      "Yer lookin' fer a hearty \"hello\" to the seven seas, eh? Alright then, matey! *pounds chest with fist* HEYOOOOOO! Arrrr, greetings to all landlubbers and scurvy dogs on the high seas! May yer sails be full o' wind and yer treasure be plentiful!\n",
      "--------------------------------------\n"
     ]
    }
   ],
   "source": [
    "# print only generated text\n",
    "\n",
    "output_text = (outputs[0][\"generated_text\"][-1]['content']).strip()\n",
    "\n",
    "print(f\"The hello from the Pirate Chatbot:\\n--------------------------------------\\n{output_text}\\n--------------------------------------\")"
   ]
  }
 ],
 "metadata": {
  "kernelspec": {
   "display_name": "Python 3 (ipykernel)",
   "language": "python",
   "name": "python3"
  },
  "language_info": {
   "codemirror_mode": {
    "name": "ipython",
    "version": 3
   },
   "file_extension": ".py",
   "mimetype": "text/x-python",
   "name": "python",
   "nbconvert_exporter": "python",
   "pygments_lexer": "ipython3",
   "version": "3.11.10"
  }
 },
 "nbformat": 4,
 "nbformat_minor": 5
}
